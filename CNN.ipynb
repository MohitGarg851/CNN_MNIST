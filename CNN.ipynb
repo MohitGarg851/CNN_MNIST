{
 "cells": [
  {
   "cell_type": "markdown",
   "metadata": {},
   "source": [
    "## ASSIGNMENT - CNN "
   ]
  },
  {
   "cell_type": "code",
   "execution_count": 20,
   "metadata": {},
   "outputs": [],
   "source": [
    "import numpy as np\n",
    "import pandas as pd\n",
    "import matplotlib.pyplot as plt\n",
    "import keras\n",
    "from keras.models import Sequential\n",
    "from keras.utils import np_utils\n",
    "from keras.preprocessing.image import ImageDataGenerator\n",
    "from keras.layers import Conv2D, MaxPooling2D\n",
    "from keras.layers import Activation, Dropout, Flatten, Dense\n",
    "from keras.layers.normalization import BatchNormalization\n"
   ]
  },
  {
   "cell_type": "code",
   "execution_count": 2,
   "metadata": {},
   "outputs": [],
   "source": [
    "data = pd.read_csv('mnist.csv') #data source kaggle"
   ]
  },
  {
   "cell_type": "code",
   "execution_count": 3,
   "metadata": {},
   "outputs": [
    {
     "data": {
      "text/html": [
       "<div>\n",
       "<style scoped>\n",
       "    .dataframe tbody tr th:only-of-type {\n",
       "        vertical-align: middle;\n",
       "    }\n",
       "\n",
       "    .dataframe tbody tr th {\n",
       "        vertical-align: top;\n",
       "    }\n",
       "\n",
       "    .dataframe thead th {\n",
       "        text-align: right;\n",
       "    }\n",
       "</style>\n",
       "<table border=\"1\" class=\"dataframe\">\n",
       "  <thead>\n",
       "    <tr style=\"text-align: right;\">\n",
       "      <th></th>\n",
       "      <th>label</th>\n",
       "      <th>pixel0</th>\n",
       "      <th>pixel1</th>\n",
       "      <th>pixel2</th>\n",
       "      <th>pixel3</th>\n",
       "      <th>pixel4</th>\n",
       "      <th>pixel5</th>\n",
       "      <th>pixel6</th>\n",
       "      <th>pixel7</th>\n",
       "      <th>pixel8</th>\n",
       "      <th>...</th>\n",
       "      <th>pixel774</th>\n",
       "      <th>pixel775</th>\n",
       "      <th>pixel776</th>\n",
       "      <th>pixel777</th>\n",
       "      <th>pixel778</th>\n",
       "      <th>pixel779</th>\n",
       "      <th>pixel780</th>\n",
       "      <th>pixel781</th>\n",
       "      <th>pixel782</th>\n",
       "      <th>pixel783</th>\n",
       "    </tr>\n",
       "  </thead>\n",
       "  <tbody>\n",
       "    <tr>\n",
       "      <th>0</th>\n",
       "      <td>1</td>\n",
       "      <td>0</td>\n",
       "      <td>0</td>\n",
       "      <td>0</td>\n",
       "      <td>0</td>\n",
       "      <td>0</td>\n",
       "      <td>0</td>\n",
       "      <td>0</td>\n",
       "      <td>0</td>\n",
       "      <td>0</td>\n",
       "      <td>...</td>\n",
       "      <td>0</td>\n",
       "      <td>0</td>\n",
       "      <td>0</td>\n",
       "      <td>0</td>\n",
       "      <td>0</td>\n",
       "      <td>0</td>\n",
       "      <td>0</td>\n",
       "      <td>0</td>\n",
       "      <td>0</td>\n",
       "      <td>0</td>\n",
       "    </tr>\n",
       "    <tr>\n",
       "      <th>1</th>\n",
       "      <td>0</td>\n",
       "      <td>0</td>\n",
       "      <td>0</td>\n",
       "      <td>0</td>\n",
       "      <td>0</td>\n",
       "      <td>0</td>\n",
       "      <td>0</td>\n",
       "      <td>0</td>\n",
       "      <td>0</td>\n",
       "      <td>0</td>\n",
       "      <td>...</td>\n",
       "      <td>0</td>\n",
       "      <td>0</td>\n",
       "      <td>0</td>\n",
       "      <td>0</td>\n",
       "      <td>0</td>\n",
       "      <td>0</td>\n",
       "      <td>0</td>\n",
       "      <td>0</td>\n",
       "      <td>0</td>\n",
       "      <td>0</td>\n",
       "    </tr>\n",
       "    <tr>\n",
       "      <th>2</th>\n",
       "      <td>1</td>\n",
       "      <td>0</td>\n",
       "      <td>0</td>\n",
       "      <td>0</td>\n",
       "      <td>0</td>\n",
       "      <td>0</td>\n",
       "      <td>0</td>\n",
       "      <td>0</td>\n",
       "      <td>0</td>\n",
       "      <td>0</td>\n",
       "      <td>...</td>\n",
       "      <td>0</td>\n",
       "      <td>0</td>\n",
       "      <td>0</td>\n",
       "      <td>0</td>\n",
       "      <td>0</td>\n",
       "      <td>0</td>\n",
       "      <td>0</td>\n",
       "      <td>0</td>\n",
       "      <td>0</td>\n",
       "      <td>0</td>\n",
       "    </tr>\n",
       "    <tr>\n",
       "      <th>3</th>\n",
       "      <td>4</td>\n",
       "      <td>0</td>\n",
       "      <td>0</td>\n",
       "      <td>0</td>\n",
       "      <td>0</td>\n",
       "      <td>0</td>\n",
       "      <td>0</td>\n",
       "      <td>0</td>\n",
       "      <td>0</td>\n",
       "      <td>0</td>\n",
       "      <td>...</td>\n",
       "      <td>0</td>\n",
       "      <td>0</td>\n",
       "      <td>0</td>\n",
       "      <td>0</td>\n",
       "      <td>0</td>\n",
       "      <td>0</td>\n",
       "      <td>0</td>\n",
       "      <td>0</td>\n",
       "      <td>0</td>\n",
       "      <td>0</td>\n",
       "    </tr>\n",
       "    <tr>\n",
       "      <th>4</th>\n",
       "      <td>0</td>\n",
       "      <td>0</td>\n",
       "      <td>0</td>\n",
       "      <td>0</td>\n",
       "      <td>0</td>\n",
       "      <td>0</td>\n",
       "      <td>0</td>\n",
       "      <td>0</td>\n",
       "      <td>0</td>\n",
       "      <td>0</td>\n",
       "      <td>...</td>\n",
       "      <td>0</td>\n",
       "      <td>0</td>\n",
       "      <td>0</td>\n",
       "      <td>0</td>\n",
       "      <td>0</td>\n",
       "      <td>0</td>\n",
       "      <td>0</td>\n",
       "      <td>0</td>\n",
       "      <td>0</td>\n",
       "      <td>0</td>\n",
       "    </tr>\n",
       "  </tbody>\n",
       "</table>\n",
       "<p>5 rows × 785 columns</p>\n",
       "</div>"
      ],
      "text/plain": [
       "   label  pixel0  pixel1  pixel2  pixel3  pixel4  pixel5  pixel6  pixel7  \\\n",
       "0      1       0       0       0       0       0       0       0       0   \n",
       "1      0       0       0       0       0       0       0       0       0   \n",
       "2      1       0       0       0       0       0       0       0       0   \n",
       "3      4       0       0       0       0       0       0       0       0   \n",
       "4      0       0       0       0       0       0       0       0       0   \n",
       "\n",
       "   pixel8    ...     pixel774  pixel775  pixel776  pixel777  pixel778  \\\n",
       "0       0    ...            0         0         0         0         0   \n",
       "1       0    ...            0         0         0         0         0   \n",
       "2       0    ...            0         0         0         0         0   \n",
       "3       0    ...            0         0         0         0         0   \n",
       "4       0    ...            0         0         0         0         0   \n",
       "\n",
       "   pixel779  pixel780  pixel781  pixel782  pixel783  \n",
       "0         0         0         0         0         0  \n",
       "1         0         0         0         0         0  \n",
       "2         0         0         0         0         0  \n",
       "3         0         0         0         0         0  \n",
       "4         0         0         0         0         0  \n",
       "\n",
       "[5 rows x 785 columns]"
      ]
     },
     "execution_count": 3,
     "metadata": {},
     "output_type": "execute_result"
    }
   ],
   "source": [
    "data.head()"
   ]
  },
  {
   "cell_type": "code",
   "execution_count": 4,
   "metadata": {},
   "outputs": [
    {
     "name": "stdout",
     "output_type": "stream",
     "text": [
      "<class 'pandas.core.frame.DataFrame'>\n",
      "RangeIndex: 42000 entries, 0 to 41999\n",
      "Columns: 785 entries, label to pixel783\n",
      "dtypes: int64(785)\n",
      "memory usage: 251.5 MB\n"
     ]
    }
   ],
   "source": [
    "data.info()"
   ]
  },
  {
   "cell_type": "code",
   "execution_count": 5,
   "metadata": {},
   "outputs": [],
   "source": [
    "y = data['label']\n",
    "X = data.drop('label', axis = 1)"
   ]
  },
  {
   "cell_type": "code",
   "execution_count": 6,
   "metadata": {},
   "outputs": [
    {
     "name": "stderr",
     "output_type": "stream",
     "text": [
      "/home/mohit/anaconda3/lib/python3.6/site-packages/ipykernel_launcher.py:5: FutureWarning: Method .as_matrix will be removed in a future version. Use .values instead.\n",
      "  \"\"\"\n"
     ]
    },
    {
     "data": {
      "image/png": "[encoded data removed]",
      "text/plain": [
       "<Figure size 360x360 with 1 Axes>"
      ]
     },
     "metadata": {},
     "output_type": "display_data"
    },
    {
     "name": "stdout",
     "output_type": "stream",
     "text": [
      "6\n"
     ]
    }
   ],
   "source": [
    "# display or plot a number.\n",
    "\n",
    "plt.figure(figsize=(5,5))\n",
    "idx = 45\n",
    "grid_data = X.iloc[idx].as_matrix().reshape(28,28)  # reshape from 1d to 2d pixel array\n",
    "plt.imshow(grid_data, interpolation = \"none\", cmap = \"gray\")\n",
    "plt.show()\n",
    "\n",
    "print(y[idx])  ## code source t-SNE code available on course . . . ."
   ]
  },
  {
   "cell_type": "code",
   "execution_count": 7,
   "metadata": {},
   "outputs": [],
   "source": [
    "# train and test set forming .  . . .\n",
    "\n",
    "split = int(data.shape[0]*0.7)\n",
    "\n",
    "X_train = X.iloc[:split,:].values\n",
    "y_train = y.iloc[:split].values\n",
    "\n",
    "X_test = X.iloc[split:,:].values\n",
    "y_test = y.iloc[split:].values"
   ]
  },
  {
   "cell_type": "code",
   "execution_count": 8,
   "metadata": {},
   "outputs": [
    {
     "data": {
      "text/plain": [
       "((29399, 784), (29399,), (12601, 784), (12601,))"
      ]
     },
     "execution_count": 8,
     "metadata": {},
     "output_type": "execute_result"
    }
   ],
   "source": [
    "X_train.shape , y_train.shape , X_test.shape , y_test.shape"
   ]
  },
  {
   "cell_type": "code",
   "execution_count": 9,
   "metadata": {},
   "outputs": [],
   "source": [
    "# Reshaping data into desired format \n",
    "X_train = X_train.reshape(X_train.shape[0], 1, 28, 28).astype('float32')\n",
    "X_test = X_test.reshape(X_test.shape[0], 1, 28, 28).astype('float32')"
   ]
  },
  {
   "cell_type": "code",
   "execution_count": 10,
   "metadata": {},
   "outputs": [
    {
     "data": {
      "text/plain": [
       "(1, 28, 28)"
      ]
     },
     "execution_count": 10,
     "metadata": {},
     "output_type": "execute_result"
    }
   ],
   "source": [
    "X_train[0].shape"
   ]
  },
  {
   "cell_type": "code",
   "execution_count": 11,
   "metadata": {},
   "outputs": [],
   "source": [
    "# normalize inputs from 0-255 to 0-1\n",
    "X_train = X_train / 255\n",
    "X_test = X_test / 255\n",
    "# one hot encode outputs\n",
    "y_train = np_utils.to_categorical(y_train)\n",
    "y_test = np_utils.to_categorical(y_test)\n",
    "num_classes = y_test.shape[1]"
   ]
  },
  {
   "cell_type": "code",
   "execution_count": 12,
   "metadata": {},
   "outputs": [
    {
     "data": {
      "text/plain": [
       "10"
      ]
     },
     "execution_count": 12,
     "metadata": {},
     "output_type": "execute_result"
    }
   ],
   "source": [
    "num_classes"
   ]
  },
  {
   "cell_type": "code",
   "execution_count": null,
   "metadata": {},
   "outputs": [],
   "source": []
  },
  {
   "cell_type": "markdown",
   "metadata": {},
   "source": [
    "### MODEL1"
   ]
  },
  {
   "cell_type": "markdown",
   "metadata": {},
   "source": [
    "ABOUT MODEL1:\n",
    "    - 1st convolutional layer consists of 16 kernals with each of 5x5 shape, since input image is of 28x28 output shape can be calculated as 28 -5 +1 X 28-5+1 i.e. 24x24, and 16 such images are generated.\n",
    "    - kernels can be used to extract important features from the image like horizontal edge or vertical edge etc.\n",
    "    - Next layer is max pooling layer which convolute with a image, it reduces only important important from a section of image, despite of angle , size of information.\n",
    "    - 2nd convolutional layer consists of 16 kernels but now kernel size is 2x2, hence output shape is 8x16 as after applying max pooling image size further reduce to half.\n",
    "    - flatten layer converts 2-d image to 1-d by flattening the output of previous layer.\n",
    "    - since this is a multiclass classification problem softmax is used as actication function which is extension of logistic function. It will return probability of every point belonging to every class.\n",
    " \n",
    " "
   ]
  },
  {
   "cell_type": "code",
   "execution_count": 13,
   "metadata": {},
   "outputs": [
    {
     "name": "stdout",
     "output_type": "stream",
     "text": [
      "_________________________________________________________________\n",
      "Layer (type)                 Output Shape              Param #   \n",
      "=================================================================\n",
      "conv2d_1 (Conv2D)            (None, 16, 24, 24)        416       \n",
      "_________________________________________________________________\n",
      "max_pooling2d_1 (MaxPooling2 (None, 8, 12, 24)         0         \n",
      "_________________________________________________________________\n",
      "conv2d_2 (Conv2D)            (None, 4, 8, 16)          9616      \n",
      "_________________________________________________________________\n",
      "max_pooling2d_2 (MaxPooling2 (None, 2, 4, 16)          0         \n",
      "_________________________________________________________________\n",
      "flatten_1 (Flatten)          (None, 128)               0         \n",
      "_________________________________________________________________\n",
      "dense_1 (Dense)              (None, 128)               16512     \n",
      "_________________________________________________________________\n",
      "dense_2 (Dense)              (None, 10)                1290      \n",
      "=================================================================\n",
      "Total params: 27,834\n",
      "Trainable params: 27,834\n",
      "Non-trainable params: 0\n",
      "_________________________________________________________________\n",
      "None\n"
     ]
    }
   ],
   "source": [
    "##model building , building a Multi layer perceptron\n",
    "\n",
    "model1 = Sequential()\n",
    "#convolutional layer with rectified linear unit activation\n",
    "model1.add(Conv2D(16, data_format = 'channels_first' ,kernel_size=(5,5), \n",
    "                  activation='relu', input_shape = (1,28,28)))\n",
    "# Max pooling layer with filter of shape 2 x 2\n",
    "model1.add(MaxPooling2D(pool_size=(2, 2)))\n",
    "\n",
    "# 2nd convolutional layer \n",
    "model1.add(Conv2D(16, (5,5), activation='relu'))\n",
    "# MAx pooling layer after 2nd convolutional layer\n",
    "model1.add(MaxPooling2D(pool_size=(2, 2)))\n",
    "\n",
    "#flatten since too many dimensions, we only want a classification output\n",
    "model1.add(Flatten())\n",
    "#fully connected to get all relevant data\n",
    "\n",
    "model1.add(Dense(128, activation='relu'))\n",
    "\n",
    "model1.add(Dense(num_classes, activation='softmax'))\n",
    "\n",
    "model1.compile(loss='categorical_crossentropy', optimizer='adam', metrics=['accuracy'])\n",
    "print(model1.summary())"
   ]
  },
  {
   "cell_type": "markdown",
   "metadata": {},
   "source": [
    "##### In model1 i used 16 filters in layer 1 of size 5x5 each and input image is of size 32 x 32 therefore output of this layer is of shape 16 x (28-5+1) x(28-5+1) where 16 denotes no of output images generated corresponding to every filter.\n",
    "##### Now this image is inputed to max pool layer which extract important info from the image \n",
    "##### Then this output inputed in next convolutional layer again containing 16 filters of 5 x 5 each.\n",
    "##### Finally we add a flatten layer in model.\n",
    "##### In dense_8 layer output is of shape 10 corresponding to each digit."
   ]
  },
  {
   "cell_type": "code",
   "execution_count": 15,
   "metadata": {},
   "outputs": [
    {
     "name": "stdout",
     "output_type": "stream",
     "text": [
      "Train on 22049 samples, validate on 7350 samples\n",
      "Epoch 1/30\n",
      "\r",
      "  128/22049 [..............................] - ETA: 22s - loss: 0.1726 - acc: 0.9375"
     ]
    },
    {
     "name": "stderr",
     "output_type": "stream",
     "text": [
      "/home/mohit/anaconda3/lib/python3.6/site-packages/ipykernel_launcher.py:3: UserWarning: The `nb_epoch` argument in `fit` has been renamed `epochs`.\n",
      "  This is separate from the ipykernel package so we can avoid doing imports until\n"
     ]
    },
    {
     "name": "stdout",
     "output_type": "stream",
     "text": [
      "22049/22049 [==============================] - 26s 1ms/step - loss: 0.1436 - acc: 0.9562 - val_loss: 0.1603 - val_acc: 0.9510\n",
      "Epoch 2/30\n",
      "22049/22049 [==============================] - 26s 1ms/step - loss: 0.1056 - acc: 0.9673 - val_loss: 0.1159 - val_acc: 0.9627\n",
      "Epoch 3/30\n",
      "22049/22049 [==============================] - 27s 1ms/step - loss: 0.0842 - acc: 0.9743 - val_loss: 0.1131 - val_acc: 0.9675\n",
      "Epoch 4/30\n",
      "22049/22049 [==============================] - 24s 1ms/step - loss: 0.0707 - acc: 0.9786 - val_loss: 0.1010 - val_acc: 0.9694\n",
      "Epoch 5/30\n",
      "22049/22049 [==============================] - 24s 1ms/step - loss: 0.0620 - acc: 0.9808 - val_loss: 0.0959 - val_acc: 0.9713\n",
      "Epoch 6/30\n",
      "22049/22049 [==============================] - 24s 1ms/step - loss: 0.0541 - acc: 0.9825 - val_loss: 0.0925 - val_acc: 0.9733\n",
      "Epoch 7/30\n",
      "22049/22049 [==============================] - 24s 1ms/step - loss: 0.0459 - acc: 0.9856 - val_loss: 0.0903 - val_acc: 0.9735\n",
      "Epoch 8/30\n",
      "22049/22049 [==============================] - 24s 1ms/step - loss: 0.0380 - acc: 0.9883 - val_loss: 0.0821 - val_acc: 0.9763\n",
      "Epoch 9/30\n",
      "22049/22049 [==============================] - 24s 1ms/step - loss: 0.0322 - acc: 0.9898 - val_loss: 0.0893 - val_acc: 0.9750\n",
      "Epoch 10/30\n",
      "22049/22049 [==============================] - 24s 1ms/step - loss: 0.0327 - acc: 0.9893 - val_loss: 0.0957 - val_acc: 0.9739\n",
      "Epoch 11/30\n",
      "22049/22049 [==============================] - 24s 1ms/step - loss: 0.0283 - acc: 0.9902 - val_loss: 0.0847 - val_acc: 0.9748\n",
      "Epoch 12/30\n",
      "22049/22049 [==============================] - 24s 1ms/step - loss: 0.0219 - acc: 0.9929 - val_loss: 0.0837 - val_acc: 0.9776\n",
      "Epoch 13/30\n",
      "22049/22049 [==============================] - 24s 1ms/step - loss: 0.0252 - acc: 0.9921 - val_loss: 0.0909 - val_acc: 0.9773\n",
      "Epoch 14/30\n",
      "22049/22049 [==============================] - 24s 1ms/step - loss: 0.0204 - acc: 0.9935 - val_loss: 0.0813 - val_acc: 0.9784\n",
      "Epoch 15/30\n",
      "22049/22049 [==============================] - 24s 1ms/step - loss: 0.0146 - acc: 0.9954 - val_loss: 0.0832 - val_acc: 0.9781\n",
      "Epoch 16/30\n",
      "22049/22049 [==============================] - 24s 1ms/step - loss: 0.0137 - acc: 0.9957 - val_loss: 0.0986 - val_acc: 0.9763\n",
      "Epoch 17/30\n",
      "22049/22049 [==============================] - 24s 1ms/step - loss: 0.0115 - acc: 0.9966 - val_loss: 0.0874 - val_acc: 0.9805\n",
      "Epoch 18/30\n",
      "22049/22049 [==============================] - 24s 1ms/step - loss: 0.0087 - acc: 0.9978 - val_loss: 0.0877 - val_acc: 0.9799\n",
      "Epoch 19/30\n",
      "22049/22049 [==============================] - 24s 1ms/step - loss: 0.0091 - acc: 0.9973 - val_loss: 0.0913 - val_acc: 0.9804\n",
      "Epoch 20/30\n",
      "22049/22049 [==============================] - 24s 1ms/step - loss: 0.0123 - acc: 0.9957 - val_loss: 0.1029 - val_acc: 0.9778\n",
      "Epoch 21/30\n",
      "22049/22049 [==============================] - 24s 1ms/step - loss: 0.0117 - acc: 0.9963 - val_loss: 0.1114 - val_acc: 0.9782\n",
      "Epoch 22/30\n",
      "22049/22049 [==============================] - 24s 1ms/step - loss: 0.0115 - acc: 0.9962 - val_loss: 0.1046 - val_acc: 0.9789\n",
      "Epoch 23/30\n",
      "22049/22049 [==============================] - 24s 1ms/step - loss: 0.0067 - acc: 0.9980 - val_loss: 0.0982 - val_acc: 0.9799\n",
      "Epoch 24/30\n",
      "22049/22049 [==============================] - 24s 1ms/step - loss: 0.0104 - acc: 0.9966 - val_loss: 0.1278 - val_acc: 0.9720\n",
      "Epoch 25/30\n",
      "22049/22049 [==============================] - 24s 1ms/step - loss: 0.0103 - acc: 0.9968 - val_loss: 0.1073 - val_acc: 0.9801\n",
      "Epoch 26/30\n",
      "22049/22049 [==============================] - 24s 1ms/step - loss: 0.0094 - acc: 0.9969 - val_loss: 0.0899 - val_acc: 0.9799\n",
      "Epoch 27/30\n",
      "22049/22049 [==============================] - 24s 1ms/step - loss: 0.0044 - acc: 0.9993 - val_loss: 0.0932 - val_acc: 0.9814\n",
      "Epoch 28/30\n",
      "22049/22049 [==============================] - 24s 1ms/step - loss: 0.0024 - acc: 0.9996 - val_loss: 0.1101 - val_acc: 0.9799\n",
      "Epoch 29/30\n",
      "22049/22049 [==============================] - 24s 1ms/step - loss: 0.0037 - acc: 0.9994 - val_loss: 0.1029 - val_acc: 0.9815\n",
      "Epoch 30/30\n",
      "22049/22049 [==============================] - 25s 1ms/step - loss: 0.0094 - acc: 0.9969 - val_loss: 0.1140 - val_acc: 0.9759\n"
     ]
    }
   ],
   "source": [
    "# fitting model1 on traing data . . . . \n",
    "\n",
    "hist1 = model1.fit(X_train, y_train, validation_split= 0.25 , nb_epoch= 30, batch_size= 128)"
   ]
  },
  {
   "cell_type": "code",
   "execution_count": 16,
   "metadata": {},
   "outputs": [
    {
     "name": "stdout",
     "output_type": "stream",
     "text": [
      "Accuracy: 97.83%\n"
     ]
    }
   ],
   "source": [
    "# Final evaluation of the model\n",
    "\n",
    "scores1 = model1.evaluate(X_test, y_test, verbose=0)\n",
    "print(\"Accuracy: %.2f%%\" % (scores1[1]*100))"
   ]
  },
  {
   "cell_type": "code",
   "execution_count": 18,
   "metadata": {},
   "outputs": [
    {
     "data": {
      "image/png": "[encoded data removed]",
      "text/plain": [
       "<Figure size 432x288 with 1 Axes>"
      ]
     },
     "metadata": {},
     "output_type": "display_data"
    },
    {
     "data": {
      "image/png": "[encoded data removed]",
      "text/plain": [
       "<Figure size 432x288 with 1 Axes>"
      ]
     },
     "metadata": {},
     "output_type": "display_data"
    }
   ],
   "source": [
    "plt.subplot(2,1,1)\n",
    "# plt.ylim(0,1)\n",
    "\n",
    "plt.plot(hist1.history['loss'] , label = 'training loss')\n",
    "plt.plot(hist1.history['val_loss'] , label = 'validation loss')\n",
    "plt.title('model1 loss')\n",
    "plt.ylabel('loss')\n",
    "plt.xlabel('epoch')\n",
    "plt.legend()\n",
    "plt.show()\n",
    "\n",
    "plt.subplot(2,1,2)\n",
    "# plt.ylim(0,1)\n",
    "plt.plot(hist1.history['acc'], label = 'training accuracy')\n",
    "plt.plot(hist1.history['val_acc'],  label = 'validation accuracy')\n",
    "plt.title('model1 accuracy')\n",
    "plt.ylabel('accuracy')\n",
    "plt.xlabel('epoch')\n",
    "plt.legend()\n",
    "\n",
    "plt.show()\n"
   ]
  },
  {
   "cell_type": "markdown",
   "metadata": {},
   "source": [
    "Model1 tends to overfit as no of increases specially at the end which can be visualize as validation curve tends to move away from training loss curve for higher epoch value.\n",
    "\n",
    "Reason for overfitting can be too much of training without much regularization.\n",
    "\n",
    "although model is not much overfitted it is in beginning stage of overfitting.\n"
   ]
  },
  {
   "cell_type": "markdown",
   "metadata": {},
   "source": [
    "## MODEL2"
   ]
  },
  {
   "cell_type": "markdown",
   "metadata": {},
   "source": [
    "ABOUT MODEL2:\n",
    "   \n",
    "    - Conv layer_1 -> no of kkernels = 32 of size 2 x2 which generates an output image of 28-2+1 x28-2+1 i.e. 27x27 , and here 32 such images will be generated i.e. 1 image corresponding to each kernel.\n",
    "    - In model2 batch normalization layer also added by keeping in mind previous model overfitting, batch normalization is also considered a step for regularization and in cases of CNN it often consider better as compare to dropout, batch normalization helps to resolve issue of covariance shift.\n",
    "    Conv layer_2 -> no of kernels = 32 \n",
    "    - flatten layer converts 2-d image to 1-d by flattening the output of previous layer.\n",
    "    - since this is a multiclass classification problem softmax is used as actication function which is extension of logistic function. It will return probability of every point belonging to every class.\n",
    " \n",
    " "
   ]
  },
  {
   "cell_type": "code",
   "execution_count": 21,
   "metadata": {},
   "outputs": [
    {
     "name": "stdout",
     "output_type": "stream",
     "text": [
      "_________________________________________________________________\n",
      "Layer (type)                 Output Shape              Param #   \n",
      "=================================================================\n",
      "conv2d_4 (Conv2D)            (None, 32, 27, 27)        160       \n",
      "_________________________________________________________________\n",
      "max_pooling2d_4 (MaxPooling2 (None, 16, 13, 27)        0         \n",
      "_________________________________________________________________\n",
      "batch_normalization_1 (Batch (None, 16, 13, 27)        108       \n",
      "_________________________________________________________________\n",
      "conv2d_5 (Conv2D)            (None, 15, 12, 32)        3488      \n",
      "_________________________________________________________________\n",
      "max_pooling2d_5 (MaxPooling2 (None, 7, 6, 32)          0         \n",
      "_________________________________________________________________\n",
      "batch_normalization_2 (Batch (None, 7, 6, 32)          128       \n",
      "_________________________________________________________________\n",
      "flatten_2 (Flatten)          (None, 1344)              0         \n",
      "_________________________________________________________________\n",
      "dense_3 (Dense)              (None, 128)               172160    \n",
      "_________________________________________________________________\n",
      "dense_4 (Dense)              (None, 10)                1290      \n",
      "=================================================================\n",
      "Total params: 177,334\n",
      "Trainable params: 177,216\n",
      "Non-trainable params: 118\n",
      "_________________________________________________________________\n",
      "None\n"
     ]
    }
   ],
   "source": [
    "##model building\n",
    "model2 = Sequential()\n",
    "#convolutional layer with rectified linear unit activation\n",
    "model2.add(Conv2D(32, data_format = 'channels_first' ,kernel_size=(2,2), \n",
    "                  activation='relu', input_shape = (1,28,28)))\n",
    "model2.add(MaxPooling2D(pool_size=(2, 2)))\n",
    "model2.add(BatchNormalization())\n",
    "\n",
    "\n",
    "model2.add(Conv2D(32, (2,2), activation='relu'))\n",
    "model2.add(MaxPooling2D(pool_size=(2, 2)))\n",
    "model2.add(BatchNormalization())\n",
    "\n",
    "\n",
    "model2.add(Flatten())\n",
    "\n",
    "\n",
    "#fully connected to get all relevant data\n",
    "model2.add(Dense(128, activation='relu'))\n",
    "\n",
    "model2.add(Dense(num_classes, activation='softmax'))\n",
    "\n",
    "model2.compile(loss='categorical_crossentropy', optimizer='adam', metrics=['accuracy'])\n",
    "print(model2.summary())"
   ]
  },
  {
   "cell_type": "code",
   "execution_count": 22,
   "metadata": {},
   "outputs": [
    {
     "name": "stderr",
     "output_type": "stream",
     "text": [
      "/home/mohit/anaconda3/lib/python3.6/site-packages/ipykernel_launcher.py:1: UserWarning: The `nb_epoch` argument in `fit` has been renamed `epochs`.\n",
      "  \"\"\"Entry point for launching an IPython kernel.\n"
     ]
    },
    {
     "name": "stdout",
     "output_type": "stream",
     "text": [
      "Train on 22049 samples, validate on 7350 samples\n",
      "Epoch 1/30\n",
      "22049/22049 [==============================] - 58s 3ms/step - loss: 0.2914 - acc: 0.9100 - val_loss: 0.1471 - val_acc: 0.9540\n",
      "Epoch 2/30\n",
      "22049/22049 [==============================] - 56s 3ms/step - loss: 0.0918 - acc: 0.9712 - val_loss: 0.1153 - val_acc: 0.9652\n",
      "Epoch 3/30\n",
      "22049/22049 [==============================] - 56s 3ms/step - loss: 0.0479 - acc: 0.9853 - val_loss: 0.0998 - val_acc: 0.9709\n",
      "Epoch 4/30\n",
      "22049/22049 [==============================] - 56s 3ms/step - loss: 0.0245 - acc: 0.9930 - val_loss: 0.1001 - val_acc: 0.9705\n",
      "Epoch 5/30\n",
      "22049/22049 [==============================] - 55s 3ms/step - loss: 0.0132 - acc: 0.9966 - val_loss: 0.0902 - val_acc: 0.9736\n",
      "Epoch 6/30\n",
      "22049/22049 [==============================] - 55s 2ms/step - loss: 0.0081 - acc: 0.9984 - val_loss: 0.0864 - val_acc: 0.9755\n",
      "Epoch 7/30\n",
      "22049/22049 [==============================] - 55s 3ms/step - loss: 0.0057 - acc: 0.9987 - val_loss: 0.0841 - val_acc: 0.9765\n",
      "Epoch 8/30\n",
      "22049/22049 [==============================] - 56s 3ms/step - loss: 0.0022 - acc: 0.9998 - val_loss: 0.0872 - val_acc: 0.9792\n",
      "Epoch 9/30\n",
      "22049/22049 [==============================] - 55s 3ms/step - loss: 0.0013 - acc: 0.9999 - val_loss: 0.0833 - val_acc: 0.9778\n",
      "Epoch 10/30\n",
      "22049/22049 [==============================] - 58s 3ms/step - loss: 7.4467e-04 - acc: 1.0000 - val_loss: 0.0836 - val_acc: 0.9789\n",
      "Epoch 11/30\n",
      "22049/22049 [==============================] - 56s 3ms/step - loss: 5.1959e-04 - acc: 1.0000 - val_loss: 0.0852 - val_acc: 0.9788\n",
      "Epoch 12/30\n",
      "22049/22049 [==============================] - 55s 3ms/step - loss: 4.2065e-04 - acc: 1.0000 - val_loss: 0.0857 - val_acc: 0.9790\n",
      "Epoch 13/30\n",
      "22049/22049 [==============================] - 55s 2ms/step - loss: 3.5891e-04 - acc: 1.0000 - val_loss: 0.0863 - val_acc: 0.9789\n",
      "Epoch 14/30\n",
      "22049/22049 [==============================] - 57s 3ms/step - loss: 3.0123e-04 - acc: 1.0000 - val_loss: 0.0868 - val_acc: 0.9788\n",
      "Epoch 15/30\n",
      "22049/22049 [==============================] - 57s 3ms/step - loss: 2.6260e-04 - acc: 1.0000 - val_loss: 0.0878 - val_acc: 0.9786\n",
      "Epoch 16/30\n",
      "22049/22049 [==============================] - 54s 2ms/step - loss: 2.3242e-04 - acc: 1.0000 - val_loss: 0.0892 - val_acc: 0.9788\n",
      "Epoch 17/30\n",
      "22049/22049 [==============================] - 53s 2ms/step - loss: 1.9928e-04 - acc: 1.0000 - val_loss: 0.0893 - val_acc: 0.9789\n",
      "Epoch 18/30\n",
      "22049/22049 [==============================] - 53s 2ms/step - loss: 1.7641e-04 - acc: 1.0000 - val_loss: 0.0904 - val_acc: 0.9790\n",
      "Epoch 19/30\n",
      "22049/22049 [==============================] - 54s 2ms/step - loss: 1.5290e-04 - acc: 1.0000 - val_loss: 0.0909 - val_acc: 0.9790\n",
      "Epoch 20/30\n",
      "22049/22049 [==============================] - 57s 3ms/step - loss: 1.3605e-04 - acc: 1.0000 - val_loss: 0.0918 - val_acc: 0.9792\n",
      "Epoch 21/30\n",
      "22049/22049 [==============================] - 57s 3ms/step - loss: 1.2098e-04 - acc: 1.0000 - val_loss: 0.0927 - val_acc: 0.9785\n",
      "Epoch 22/30\n",
      "22049/22049 [==============================] - 57s 3ms/step - loss: 1.1099e-04 - acc: 1.0000 - val_loss: 0.0931 - val_acc: 0.9788\n",
      "Epoch 23/30\n",
      "22049/22049 [==============================] - 60s 3ms/step - loss: 9.8091e-05 - acc: 1.0000 - val_loss: 0.0939 - val_acc: 0.9795\n",
      "Epoch 24/30\n",
      "22049/22049 [==============================] - 56s 3ms/step - loss: 8.4958e-05 - acc: 1.0000 - val_loss: 0.0949 - val_acc: 0.9793\n",
      "Epoch 25/30\n",
      "22049/22049 [==============================] - 55s 2ms/step - loss: 7.7766e-05 - acc: 1.0000 - val_loss: 0.0963 - val_acc: 0.9789\n",
      "Epoch 26/30\n",
      "22049/22049 [==============================] - 55s 3ms/step - loss: 7.0755e-05 - acc: 1.0000 - val_loss: 0.0963 - val_acc: 0.9790\n",
      "Epoch 27/30\n",
      "22049/22049 [==============================] - 56s 3ms/step - loss: 6.0624e-05 - acc: 1.0000 - val_loss: 0.0961 - val_acc: 0.9793\n",
      "Epoch 28/30\n",
      "22049/22049 [==============================] - 57s 3ms/step - loss: 5.4059e-05 - acc: 1.0000 - val_loss: 0.0975 - val_acc: 0.9792\n",
      "Epoch 29/30\n",
      "22049/22049 [==============================] - 58s 3ms/step - loss: 4.8711e-05 - acc: 1.0000 - val_loss: 0.0981 - val_acc: 0.9795\n",
      "Epoch 30/30\n",
      "22049/22049 [==============================] - 58s 3ms/step - loss: 4.4826e-05 - acc: 1.0000 - val_loss: 0.0985 - val_acc: 0.9795\n"
     ]
    }
   ],
   "source": [
    "hist2 = model2.fit(X_train, y_train, validation_split= 0.25 , nb_epoch= 30, batch_size= 128)"
   ]
  },
  {
   "cell_type": "code",
   "execution_count": 23,
   "metadata": {},
   "outputs": [
    {
     "name": "stdout",
     "output_type": "stream",
     "text": [
      "Accuracy: 98.24%\n"
     ]
    }
   ],
   "source": [
    "# Final evaluation of the model\n",
    "\n",
    "scores2 = model2.evaluate(X_test, y_test, verbose=0)\n",
    "print(\"Accuracy: %.2f%%\" % (scores2[1]*100))"
   ]
  },
  {
   "cell_type": "code",
   "execution_count": 24,
   "metadata": {},
   "outputs": [
    {
     "data": {
      "image/png": "[encoded data removed]",
      "text/plain": [
       "<Figure size 432x288 with 1 Axes>"
      ]
     },
     "metadata": {},
     "output_type": "display_data"
    },
    {
     "data": {
      "image/png": "[encoded data removed]",
      "text/plain": [
       "<Figure size 432x288 with 1 Axes>"
      ]
     },
     "metadata": {},
     "output_type": "display_data"
    }
   ],
   "source": [
    "plt.subplot(2,1,1)\n",
    "plt.plot(hist2.history['loss'] , label = 'training loss')\n",
    "plt.plot(hist2.history['val_loss'] , label = 'validation loss')\n",
    "plt.title('model2 loss')\n",
    "plt.ylabel('loss')\n",
    "plt.xlabel('epoch')\n",
    "plt.legend()\n",
    "plt.show()\n",
    "\n",
    "plt.subplot(2,1,2)\n",
    "plt.plot(hist2.history['acc'], label = 'training accuracy')\n",
    "plt.plot(hist2.history['val_acc'],  label = 'validation accuracy')\n",
    "plt.title('model2 accuracy')\n",
    "plt.ylabel('accuracy')\n",
    "plt.xlabel('epoch')\n",
    "plt.legend()\n",
    "\n",
    "plt.show()\n"
   ]
  },
  {
   "cell_type": "markdown",
   "metadata": {},
   "source": [
    "Although model2 trained for same no of epoch and have almost similar architecture compare to previous model but model doesn't overfitts as both validation loss curve and training loss curve noves parallel after converging and are never diverges at any epoch.\n",
    "\n",
    "Model2 works fine too in optimizing as loss is less then model1."
   ]
  },
  {
   "cell_type": "markdown",
   "metadata": {},
   "source": [
    "## MODEL3"
   ]
  },
  {
   "cell_type": "code",
   "execution_count": 25,
   "metadata": {},
   "outputs": [
    {
     "name": "stdout",
     "output_type": "stream",
     "text": [
      "_________________________________________________________________\n",
      "Layer (type)                 Output Shape              Param #   \n",
      "=================================================================\n",
      "conv2d_6 (Conv2D)            (None, 64, 13, 13)        640       \n",
      "_________________________________________________________________\n",
      "max_pooling2d_6 (MaxPooling2 (None, 32, 6, 13)         0         \n",
      "_________________________________________________________________\n",
      "batch_normalization_3 (Batch (None, 32, 6, 13)         52        \n",
      "_________________________________________________________________\n",
      "conv2d_7 (Conv2D)            (None, 30, 4, 64)         7552      \n",
      "_________________________________________________________________\n",
      "max_pooling2d_7 (MaxPooling2 (None, 15, 2, 64)         0         \n",
      "_________________________________________________________________\n",
      "batch_normalization_4 (Batch (None, 15, 2, 64)         256       \n",
      "_________________________________________________________________\n",
      "flatten_3 (Flatten)          (None, 1920)              0         \n",
      "_________________________________________________________________\n",
      "dense_5 (Dense)              (None, 128)               245888    \n",
      "_________________________________________________________________\n",
      "batch_normalization_5 (Batch (None, 128)               512       \n",
      "_________________________________________________________________\n",
      "dense_6 (Dense)              (None, 10)                1290      \n",
      "=================================================================\n",
      "Total params: 256,190\n",
      "Trainable params: 255,780\n",
      "Non-trainable params: 410\n",
      "_________________________________________________________________\n",
      "None\n"
     ]
    }
   ],
   "source": [
    "##model building\n",
    "model3 = Sequential()\n",
    "#convolutional layer with rectified linear unit activation\n",
    "model3.add(Conv2D(64,strides=2, data_format = 'channels_first' ,kernel_size=(3,3),\n",
    "                  activation='relu', input_shape = (1,28,28)))\n",
    "model3.add(MaxPooling2D(pool_size=(2,2)))\n",
    "model3.add(BatchNormalization())\n",
    "\n",
    "model3.add(Conv2D(64, (3,3), activation='relu'))\n",
    "model3.add(MaxPooling2D(pool_size=(2, 2)))\n",
    "model3.add(BatchNormalization())\n",
    "\n",
    "# model3.add(Dropout(0.25))\n",
    "\n",
    "model3.add(Flatten())\n",
    "#fully connected to get all relevant data\n",
    "model3.add(Dense(128, activation='relu'))\n",
    "model3.add(BatchNormalization())\n",
    "\n",
    "\n",
    "model3.add(Dense(num_classes, activation='softmax'))\n",
    "model3.compile(loss='categorical_crossentropy', optimizer='adam', metrics=['accuracy'])\n",
    "print(model3.summary())"
   ]
  },
  {
   "cell_type": "code",
   "execution_count": 31,
   "metadata": {},
   "outputs": [
    {
     "name": "stderr",
     "output_type": "stream",
     "text": [
      "/home/mohit/anaconda3/lib/python3.6/site-packages/ipykernel_launcher.py:1: UserWarning: The `nb_epoch` argument in `fit` has been renamed `epochs`.\n",
      "  \"\"\"Entry point for launching an IPython kernel.\n"
     ]
    },
    {
     "name": "stdout",
     "output_type": "stream",
     "text": [
      "Train on 22049 samples, validate on 7350 samples\n",
      "Epoch 1/30\n",
      "22049/22049 [==============================] - 35s 2ms/step - loss: 0.0031 - acc: 0.9995 - val_loss: 0.0756 - val_acc: 0.9810\n",
      "Epoch 2/30\n",
      "22049/22049 [==============================] - 37s 2ms/step - loss: 0.0052 - acc: 0.9985 - val_loss: 0.0984 - val_acc: 0.9771\n",
      "Epoch 3/30\n",
      "22049/22049 [==============================] - 39s 2ms/step - loss: 0.0105 - acc: 0.9967 - val_loss: 0.0993 - val_acc: 0.9778\n",
      "Epoch 4/30\n",
      "22049/22049 [==============================] - 42s 2ms/step - loss: 0.0134 - acc: 0.9956 - val_loss: 0.1033 - val_acc: 0.9762\n",
      "Epoch 5/30\n",
      "22049/22049 [==============================] - 42s 2ms/step - loss: 0.0099 - acc: 0.9966 - val_loss: 0.0971 - val_acc: 0.9761\n",
      "Epoch 6/30\n",
      "22049/22049 [==============================] - 44s 2ms/step - loss: 0.0056 - acc: 0.9981 - val_loss: 0.0941 - val_acc: 0.9792\n",
      "Epoch 7/30\n",
      "22049/22049 [==============================] - 45s 2ms/step - loss: 0.0043 - acc: 0.9987 - val_loss: 0.1072 - val_acc: 0.9740\n",
      "Epoch 8/30\n",
      "22049/22049 [==============================] - 37s 2ms/step - loss: 0.0081 - acc: 0.9976 - val_loss: 0.0975 - val_acc: 0.9785\n",
      "Epoch 9/30\n",
      "22049/22049 [==============================] - 37s 2ms/step - loss: 0.0067 - acc: 0.9980 - val_loss: 0.0906 - val_acc: 0.9815\n",
      "Epoch 10/30\n",
      "22049/22049 [==============================] - 37s 2ms/step - loss: 0.0034 - acc: 0.9990 - val_loss: 0.0779 - val_acc: 0.9829\n",
      "Epoch 11/30\n",
      "22049/22049 [==============================] - 35s 2ms/step - loss: 0.0033 - acc: 0.9989 - val_loss: 0.0876 - val_acc: 0.9820\n",
      "Epoch 12/30\n",
      "22049/22049 [==============================] - 40s 2ms/step - loss: 0.0048 - acc: 0.9985 - val_loss: 0.1165 - val_acc: 0.9747\n",
      "Epoch 13/30\n",
      "22049/22049 [==============================] - 34s 2ms/step - loss: 0.0030 - acc: 0.9993 - val_loss: 0.0862 - val_acc: 0.9814\n",
      "Epoch 14/30\n",
      "22049/22049 [==============================] - 34s 2ms/step - loss: 0.0038 - acc: 0.9988 - val_loss: 0.0955 - val_acc: 0.9795\n",
      "Epoch 15/30\n",
      "22049/22049 [==============================] - 34s 2ms/step - loss: 0.0049 - acc: 0.9984 - val_loss: 0.0917 - val_acc: 0.9829\n",
      "Epoch 16/30\n",
      "22049/22049 [==============================] - 40s 2ms/step - loss: 0.0079 - acc: 0.9976 - val_loss: 0.1013 - val_acc: 0.9795\n",
      "Epoch 17/30\n",
      "22049/22049 [==============================] - 33s 2ms/step - loss: 0.0064 - acc: 0.9980 - val_loss: 0.0890 - val_acc: 0.9818\n",
      "Epoch 18/30\n",
      "22049/22049 [==============================] - 32s 1ms/step - loss: 0.0043 - acc: 0.9988 - val_loss: 0.0826 - val_acc: 0.9829\n",
      "Epoch 19/30\n",
      "22049/22049 [==============================] - 32s 1ms/step - loss: 9.1463e-04 - acc: 0.9999 - val_loss: 0.0871 - val_acc: 0.9818\n",
      "Epoch 20/30\n",
      "22049/22049 [==============================] - 32s 1ms/step - loss: 4.1836e-04 - acc: 1.0000 - val_loss: 0.0803 - val_acc: 0.9841\n",
      "Epoch 21/30\n",
      "22049/22049 [==============================] - 32s 1ms/step - loss: 2.3139e-04 - acc: 1.0000 - val_loss: 0.0805 - val_acc: 0.9841\n",
      "Epoch 22/30\n",
      "22049/22049 [==============================] - 32s 1ms/step - loss: 1.8587e-04 - acc: 1.0000 - val_loss: 0.0773 - val_acc: 0.9859\n",
      "Epoch 23/30\n",
      "22049/22049 [==============================] - 32s 1ms/step - loss: 1.1069e-04 - acc: 1.0000 - val_loss: 0.0799 - val_acc: 0.9852\n",
      "Epoch 24/30\n",
      "22049/22049 [==============================] - 32s 1ms/step - loss: 8.9839e-05 - acc: 1.0000 - val_loss: 0.0808 - val_acc: 0.9853\n",
      "Epoch 25/30\n",
      "22049/22049 [==============================] - 36s 2ms/step - loss: 6.5168e-05 - acc: 1.0000 - val_loss: 0.0811 - val_acc: 0.9856\n",
      "Epoch 26/30\n",
      "22049/22049 [==============================] - 40s 2ms/step - loss: 0.0116 - acc: 0.9967 - val_loss: 0.1992 - val_acc: 0.9595\n",
      "Epoch 27/30\n",
      "22049/22049 [==============================] - 40s 2ms/step - loss: 0.0174 - acc: 0.9941 - val_loss: 0.0887 - val_acc: 0.9796\n",
      "Epoch 28/30\n",
      "22049/22049 [==============================] - 39s 2ms/step - loss: 0.0034 - acc: 0.9989 - val_loss: 0.0789 - val_acc: 0.9822\n",
      "Epoch 29/30\n",
      "22049/22049 [==============================] - 39s 2ms/step - loss: 0.0021 - acc: 0.9995 - val_loss: 0.0829 - val_acc: 0.9830\n",
      "Epoch 30/30\n",
      "22049/22049 [==============================] - 38s 2ms/step - loss: 0.0013 - acc: 0.9997 - val_loss: 0.0851 - val_acc: 0.9830\n"
     ]
    }
   ],
   "source": [
    "hist3 = model3.fit(X_train, y_train, validation_split= 0.25 , nb_epoch= 30, batch_size= 64)"
   ]
  },
  {
   "cell_type": "code",
   "execution_count": 32,
   "metadata": {},
   "outputs": [
    {
     "name": "stdout",
     "output_type": "stream",
     "text": [
      "Accuracy: 98.40%\n"
     ]
    }
   ],
   "source": [
    "# Final evaluation of the model\n",
    "\n",
    "scores3 = model3.evaluate(X_test, y_test, verbose=0)\n",
    "print(\"Accuracy: %.2f%%\" % (scores3[1]*100))"
   ]
  },
  {
   "cell_type": "code",
   "execution_count": 33,
   "metadata": {},
   "outputs": [
    {
     "data": {
      "image/png": "[encoded data removed]",
      "text/plain": [
       "<Figure size 432x288 with 1 Axes>"
      ]
     },
     "metadata": {},
     "output_type": "display_data"
    },
    {
     "data": {
      "image/png": "[encoded data removed]",
      "text/plain": [
       "<Figure size 432x288 with 1 Axes>"
      ]
     },
     "metadata": {},
     "output_type": "display_data"
    }
   ],
   "source": [
    "plt.subplot(2,1,1)\n",
    "plt.plot(hist3.history['loss'] , label = 'training loss')\n",
    "plt.plot(hist3.history['val_loss'] , label = 'validation loss')\n",
    "plt.title('model3 loss')\n",
    "plt.ylabel('loss')\n",
    "plt.xlabel('epoch')\n",
    "plt.legend()\n",
    "plt.show()\n",
    "\n",
    "plt.subplot(2,1,2)\n",
    "plt.plot(hist3.history['acc'], label = 'training accuracy')\n",
    "plt.plot(hist3.history['val_acc'],  label = 'validation accuracy')\n",
    "plt.title('model3 accuracy')\n",
    "plt.ylabel('accuracy')\n",
    "plt.xlabel('epoch')\n",
    "plt.legend()\n",
    "\n",
    "plt.show()\n"
   ]
  },
  {
   "cell_type": "markdown",
   "metadata": {},
   "source": [
    "In model3 its seen that no learning is done as loss remain uneffective from beginning to end.\n",
    "\n",
    "Conclusion taken from this model is that despite of complexity of CNN model batch normalization act as a regularizor and it restrict model from overfitting.\n"
   ]
  },
  {
   "cell_type": "code",
   "execution_count": null,
   "metadata": {},
   "outputs": [],
   "source": []
  },
  {
   "cell_type": "markdown",
   "metadata": {},
   "source": [
    "## MODEL4"
   ]
  },
  {
   "cell_type": "markdown",
   "metadata": {},
   "source": [
    "ABOUT MODEL4:\n",
    "    - 1st convolutional layer consists of 64 kernals with each of 3x3 shape, since input image is of 28x28 output shape can be calculated as 28 -3 +1 X 28-3+1 i.e. 24x24,but here i used stride of 2 i.e. convolution will move 2 cell per step hence now we get output shape 13x13 and 64 such images are generated.\n",
    "    - kernels can be used to extract important features from the image like horizontal edge or vertical edge etc.\n",
    "    - Next layer is max pooling layer which convolute with a image, it reduces only important important from a section of image, despite of angle , size of information.\n",
    "    - To avoid overfitting next layer added is of dropout, as using dropout while learning all the features will not present at every point of time and hence model use all features which improves generalization.\n",
    "    - 2nd convolutional layer consists of 32 kernels but now kernel size is 2x2.\n",
    "    - Activation function used is relu, relu converges faster and it avoids issue of vanishing gradient problem. \n",
    "    - flatten layer converts 2-d image to 1-d by flattening the output of previous layer.\n",
    "    - since this is a multiclass classification problem softmax is used as actication function which is extension of logistic function. It will return probability of every point belonging to every class.\n",
    " \n",
    " "
   ]
  },
  {
   "cell_type": "code",
   "execution_count": 34,
   "metadata": {},
   "outputs": [
    {
     "name": "stdout",
     "output_type": "stream",
     "text": [
      "_________________________________________________________________\n",
      "Layer (type)                 Output Shape              Param #   \n",
      "=================================================================\n",
      "conv2d_10 (Conv2D)           (None, 64, 13, 13)        640       \n",
      "_________________________________________________________________\n",
      "max_pooling2d_10 (MaxPooling (None, 32, 6, 13)         0         \n",
      "_________________________________________________________________\n",
      "dropout_4 (Dropout)          (None, 32, 6, 13)         0         \n",
      "_________________________________________________________________\n",
      "conv2d_11 (Conv2D)           (None, 31, 5, 32)         1696      \n",
      "_________________________________________________________________\n",
      "max_pooling2d_11 (MaxPooling (None, 15, 2, 32)         0         \n",
      "_________________________________________________________________\n",
      "dropout_5 (Dropout)          (None, 15, 2, 32)         0         \n",
      "_________________________________________________________________\n",
      "flatten_5 (Flatten)          (None, 960)               0         \n",
      "_________________________________________________________________\n",
      "dense_9 (Dense)              (None, 128)               123008    \n",
      "_________________________________________________________________\n",
      "dropout_6 (Dropout)          (None, 128)               0         \n",
      "_________________________________________________________________\n",
      "dense_10 (Dense)             (None, 10)                1290      \n",
      "=================================================================\n",
      "Total params: 126,634\n",
      "Trainable params: 126,634\n",
      "Non-trainable params: 0\n",
      "_________________________________________________________________\n",
      "None\n"
     ]
    }
   ],
   "source": [
    "##model building\n",
    "model4 = Sequential()\n",
    "#convolutional layer with rectified linear unit activation\n",
    "model4.add(Conv2D(64,strides=2, data_format = 'channels_first' ,kernel_size=(3,3),\n",
    "                  activation='relu', input_shape = (1,28,28)))\n",
    "model4.add(MaxPooling2D(pool_size=(2,2)))\n",
    "model4.add(Dropout(0.25))\n",
    "\n",
    "model4.add(Conv2D(32, (2,2), activation='relu'))\n",
    "model4.add(MaxPooling2D(pool_size=(2, 2)))\n",
    "model4.add(Dropout(0.25))\n",
    "\n",
    "\n",
    "model4.add(Flatten())\n",
    "#fully connected to get all relevant data\n",
    "model4.add(Dense(128, activation='relu'))\n",
    "#one more dropout for convergence' sake :) \n",
    "model4.add(Dropout(0.25))\n",
    "#output a softmax to squash the matrix into output probabilities\n",
    "model4.add(Dense(num_classes, activation='softmax'))\n",
    "model4.compile(loss='categorical_crossentropy', optimizer='adam', metrics=['accuracy'])\n",
    "print(model4.summary())"
   ]
  },
  {
   "cell_type": "code",
   "execution_count": 35,
   "metadata": {},
   "outputs": [
    {
     "name": "stderr",
     "output_type": "stream",
     "text": [
      "/home/mohit/anaconda3/lib/python3.6/site-packages/ipykernel_launcher.py:1: UserWarning: The `nb_epoch` argument in `fit` has been renamed `epochs`.\n",
      "  \"\"\"Entry point for launching an IPython kernel.\n"
     ]
    },
    {
     "name": "stdout",
     "output_type": "stream",
     "text": [
      "Train on 22049 samples, validate on 7350 samples\n",
      "Epoch 1/30\n",
      "22049/22049 [==============================] - 31s 1ms/step - loss: 0.8860 - acc: 0.7144 - val_loss: 0.4195 - val_acc: 0.8743\n",
      "Epoch 2/30\n",
      "22049/22049 [==============================] - 30s 1ms/step - loss: 0.4299 - acc: 0.8610 - val_loss: 0.2825 - val_acc: 0.9143\n",
      "Epoch 3/30\n",
      "22049/22049 [==============================] - 32s 1ms/step - loss: 0.3248 - acc: 0.8956 - val_loss: 0.2226 - val_acc: 0.9306\n",
      "Epoch 4/30\n",
      "22049/22049 [==============================] - 32s 1ms/step - loss: 0.2693 - acc: 0.9149 - val_loss: 0.1945 - val_acc: 0.9410\n",
      "Epoch 5/30\n",
      "22049/22049 [==============================] - 31s 1ms/step - loss: 0.2385 - acc: 0.9255 - val_loss: 0.1675 - val_acc: 0.9516\n",
      "Epoch 6/30\n",
      "22049/22049 [==============================] - 34s 2ms/step - loss: 0.2067 - acc: 0.9332 - val_loss: 0.1468 - val_acc: 0.9569\n",
      "Epoch 7/30\n",
      "22049/22049 [==============================] - 33s 1ms/step - loss: 0.1869 - acc: 0.9405 - val_loss: 0.1460 - val_acc: 0.9566\n",
      "Epoch 8/30\n",
      "22049/22049 [==============================] - 32s 1ms/step - loss: 0.1737 - acc: 0.9454 - val_loss: 0.1359 - val_acc: 0.9573\n",
      "Epoch 9/30\n",
      "22049/22049 [==============================] - 32s 1ms/step - loss: 0.1626 - acc: 0.9493 - val_loss: 0.1190 - val_acc: 0.9650\n",
      "Epoch 10/30\n",
      "22049/22049 [==============================] - 32s 1ms/step - loss: 0.1524 - acc: 0.9517 - val_loss: 0.1185 - val_acc: 0.9644\n",
      "Epoch 11/30\n",
      "22049/22049 [==============================] - 33s 1ms/step - loss: 0.1387 - acc: 0.9556 - val_loss: 0.1191 - val_acc: 0.9639\n",
      "Epoch 12/30\n",
      "22049/22049 [==============================] - 32s 1ms/step - loss: 0.1357 - acc: 0.9574 - val_loss: 0.1062 - val_acc: 0.9679\n",
      "Epoch 13/30\n",
      "22049/22049 [==============================] - 32s 1ms/step - loss: 0.1265 - acc: 0.9589 - val_loss: 0.1029 - val_acc: 0.9684\n",
      "Epoch 14/30\n",
      "22049/22049 [==============================] - 32s 1ms/step - loss: 0.1191 - acc: 0.9612 - val_loss: 0.1044 - val_acc: 0.9691\n",
      "Epoch 15/30\n",
      "22049/22049 [==============================] - 33s 1ms/step - loss: 0.1160 - acc: 0.9624 - val_loss: 0.0961 - val_acc: 0.9717\n",
      "Epoch 16/30\n",
      "22049/22049 [==============================] - 30s 1ms/step - loss: 0.1124 - acc: 0.9647 - val_loss: 0.0940 - val_acc: 0.9705\n",
      "Epoch 17/30\n",
      "22049/22049 [==============================] - 37s 2ms/step - loss: 0.1088 - acc: 0.9651 - val_loss: 0.0918 - val_acc: 0.9713\n",
      "Epoch 18/30\n",
      "22049/22049 [==============================] - 34s 2ms/step - loss: 0.1001 - acc: 0.9670 - val_loss: 0.0905 - val_acc: 0.9713\n",
      "Epoch 19/30\n",
      "22049/22049 [==============================] - 31s 1ms/step - loss: 0.0983 - acc: 0.9694 - val_loss: 0.0898 - val_acc: 0.9729\n",
      "Epoch 20/30\n",
      "22049/22049 [==============================] - 31s 1ms/step - loss: 0.0945 - acc: 0.9688 - val_loss: 0.0905 - val_acc: 0.9731\n",
      "Epoch 21/30\n",
      "22049/22049 [==============================] - 31s 1ms/step - loss: 0.0887 - acc: 0.9714 - val_loss: 0.0949 - val_acc: 0.9729\n",
      "Epoch 22/30\n",
      "22049/22049 [==============================] - 35s 2ms/step - loss: 0.0885 - acc: 0.9707 - val_loss: 0.0883 - val_acc: 0.9743\n",
      "Epoch 23/30\n",
      "22049/22049 [==============================] - 35s 2ms/step - loss: 0.0859 - acc: 0.9720 - val_loss: 0.0833 - val_acc: 0.9765\n",
      "Epoch 24/30\n",
      "22049/22049 [==============================] - 34s 2ms/step - loss: 0.0817 - acc: 0.9730 - val_loss: 0.0927 - val_acc: 0.9737\n",
      "Epoch 25/30\n",
      "22049/22049 [==============================] - 34s 2ms/step - loss: 0.0776 - acc: 0.9735 - val_loss: 0.0868 - val_acc: 0.9747\n",
      "Epoch 26/30\n",
      "22049/22049 [==============================] - 34s 2ms/step - loss: 0.0750 - acc: 0.9753 - val_loss: 0.0909 - val_acc: 0.9741\n",
      "Epoch 27/30\n",
      "22049/22049 [==============================] - 34s 2ms/step - loss: 0.0762 - acc: 0.9748 - val_loss: 0.0848 - val_acc: 0.9741\n",
      "Epoch 28/30\n",
      "22049/22049 [==============================] - 33s 2ms/step - loss: 0.0739 - acc: 0.9754 - val_loss: 0.0820 - val_acc: 0.9762\n",
      "Epoch 29/30\n",
      "22049/22049 [==============================] - 35s 2ms/step - loss: 0.0723 - acc: 0.9776 - val_loss: 0.0777 - val_acc: 0.9774\n",
      "Epoch 30/30\n",
      "22049/22049 [==============================] - 34s 2ms/step - loss: 0.0647 - acc: 0.9787 - val_loss: 0.0792 - val_acc: 0.9762\n"
     ]
    }
   ],
   "source": [
    "hist4 = model4.fit(X_train, y_train, validation_split= 0.25 , nb_epoch= 30, batch_size= 64)"
   ]
  },
  {
   "cell_type": "code",
   "execution_count": 36,
   "metadata": {},
   "outputs": [
    {
     "name": "stdout",
     "output_type": "stream",
     "text": [
      "Accuracy: 98.12%\n"
     ]
    }
   ],
   "source": [
    "# Final evaluation of the model\n",
    "\n",
    "scores4 = model4.evaluate(X_test, y_test, verbose=0)\n",
    "print(\"Accuracy: %.2f%%\" % (scores4[1]*100))"
   ]
  },
  {
   "cell_type": "code",
   "execution_count": 114,
   "metadata": {},
   "outputs": [
    {
     "data": {
      "image/png": "[encoded data removed]",
      "text/plain": [
       "<Figure size 432x288 with 1 Axes>"
      ]
     },
     "metadata": {},
     "output_type": "display_data"
    }
   ],
   "source": [
    "# plt.subplot(2,1,1)\n",
    "\n",
    "plt.plot(hist4.history['loss'] , label = 'training loss')\n",
    "plt.plot(hist4.history['val_loss'] , label = 'validation loss')\n",
    "plt.title('model4 loss')\n",
    "plt.ylabel('loss')\n",
    "plt.xlabel('epoch')\n",
    "plt.legend()\n",
    "plt.show()\n",
    "\n",
    "plt.subplot(2,1,2)\n",
    "plt.plot(hist4.history['acc'], label = 'training accuracy')\n",
    "plt.plot(hist4.history['val_acc'],  label = 'validation accuracy')\n",
    "plt.title('model4 accuracy')\n",
    "plt.ylabel('accuracy')\n",
    "plt.xlabel('epoch')\n",
    "plt.legend()\n",
    "\n",
    "plt.show()\n"
   ]
  },
  {
   "cell_type": "markdown",
   "metadata": {},
   "source": [
    "Model4 has a complex architecture which causes it to overfits from beginning onwards as seen in plot just after 4-5 epoch model starts to overfit as validation loss continously increases on the other side training loss decreses.\n",
    "\n",
    "For regularization here although dropout layer is added but as mentioned in blog:\n",
    "https://towardsdatascience.com/dont-use-dropout-in-convolutional-networks-81486c823c16\n",
    "dropout is not a fine way to regularize cnn.\n",
    "\n"
   ]
  },
  {
   "cell_type": "markdown",
   "metadata": {},
   "source": [
    "### Summary of all models"
   ]
  },
  {
   "cell_type": "code",
   "execution_count": 43,
   "metadata": {},
   "outputs": [
    {
     "name": "stdout",
     "output_type": "stream",
     "text": [
      "--------------- Performance comparison for CNN model with different parameters  ---------------\n",
      "\n",
      "+-----------------+-------------+-------------+-------------+-------------+\n",
      "|  Param/Perform  |    model1   |    model2   |    model3   |    model4   |\n",
      "+-----------------+-------------+-------------+-------------+-------------+\n",
      "|   # convlayers  |      2      |      2      |      2      |      2      |\n",
      "| #kernels(l1,l2) |    16,16    |    32,32    |    64,64    |    64,32    |\n",
      "|  k_Shape(l1,l2) | (5,5),(5,5) | (2,2),(2,2) | (3,3),(3,3) | (3,3),(2,2) |\n",
      "|      stride     |      1      |      1      |      2      |      2      |\n",
      "|   Used Dropout  |      No     |      No     |      No     |     Yes     |\n",
      "|   Dropout rate  |      -      |      -      |      -      |     0.5     |\n",
      "|    Batch_norm   |      No     |     yes     |     yes     |      No     |\n",
      "|     accuracy    |    97.81    |    98.95    |    97.93    |    97.43    |\n",
      "|      result     |   wellfit   |   wellfit   |   underfit  |   overfit   |\n",
      "+-----------------+-------------+-------------+-------------+-------------+\n",
      "k_shape stands for shape of kernels used in both layers\n"
     ]
    }
   ],
   "source": [
    "from prettytable import PrettyTable\n",
    "\n",
    "summ_ = PrettyTable()\n",
    "print('-'*15, 'Performance comparison for CNN model with different parameters ','-'*15)\n",
    "print()\n",
    "column_names = ['Param/Perform', 'model1', 'model2', 'model3',\n",
    "'model4']\n",
    "summ_.add_column(column_names[0],['# convlayers', '#kernels(l1,l2)', 'k_Shape(l1,l2)', \n",
    "                                  'stride', 'Used Dropout','Dropout rate','Batch_norm', 'accuracy', 'result'])\n",
    "summ_.add_column(column_names[1], [2, '16,16' , '(5,5),(5,5)', 1,'No','-','No', 97.81 , 'wellfit'])\n",
    "summ_.add_column(column_names[2], [2, '32,32' , '(2,2),(2,2)', 1,'No','-', 'yes',98.95 , 'wellfit'])\n",
    "summ_.add_column(column_names[3], [2, '64,64' , '(3,3),(3,3)', 2,'No','-','yes', 97.93 , 'underfit'])\n",
    "summ_.add_column(column_names[4], [2, '64,32' , '(3,3),(2,2)', 2,'Yes','0.5','No' ,97.43 , 'overfit'])\n",
    "\n",
    "\n",
    "\n",
    "print(summ_)\n",
    "print('k_shape stands for shape of kernels used in both layers')\n"
   ]
  },
  {
   "cell_type": "markdown",
   "metadata": {},
   "source": [
    "## IMPORTANT OBSERVATION:\n",
    "### On overfitting:\n",
    "\n",
    "- Model1 : Simple architecture ----> hence no overfitting, if # epoch increase further then model starts to overfit.\n",
    "- Model2 : Complex architecture --->  hence overfitting starts after 7-8 epochs , but as in 2nd run i use batch normalization layer model doesn't overfit any more.\n",
    "- Model3 : Complex architecture but 1 batch normalization layer at the end of every conv or dense layer causes no learning in model and hence model underfits. \n",
    "- Model4 : Complex architecure but 3 dropout layers also ---> Still model overfits, concludes that dropout not act as good regularizer when dataset is simple or when algorithm used is CNN.\n",
    "\n",
    "Conclusion ---> Although dropout layer helps to avoid overfitting but in CNN when dataset is not too complex, #weights are not too many hence dropout layer will not act as good regularizer, despite in CNN batch normalizing will be a good regularizer as using it model not overfits but as seen in model3 using batch normalization layer at the end of every conv layer and dense layer can cause under fitting in short no learning takes place in model."
   ]
  },
  {
   "cell_type": "markdown",
   "metadata": {},
   "source": [
    "###### Also MNIST data is not too complex dataset hence even simple CNN model works very good on the data but if building complex model its better to add dropout layer which randomly turns some neurons off and help in reducing overfitting and also improves convergence"
   ]
  },
  {
   "cell_type": "code",
   "execution_count": null,
   "metadata": {},
   "outputs": [],
   "source": []
  },
  {
   "cell_type": "code",
   "execution_count": null,
   "metadata": {},
   "outputs": [],
   "source": []
  },
  {
   "cell_type": "code",
   "execution_count": null,
   "metadata": {},
   "outputs": [],
   "source": []
  },
  {
   "cell_type": "code",
   "execution_count": 41,
   "metadata": {},
   "outputs": [
    {
     "name": "stdout",
     "output_type": "stream",
     "text": [
      "\n"
     ]
    }
   ],
   "source": [
    "print()"
   ]
  }
 ],
 "metadata": {
  "kernelspec": {
   "display_name": "Python 3",
   "language": "python",
   "name": "python3"
  },
  "language_info": {
   "codemirror_mode": {
    "name": "ipython",
    "version": 3
   },
   "file_extension": ".py",
   "mimetype": "text/x-python",
   "name": "python",
   "nbconvert_exporter": "python",
   "pygments_lexer": "ipython3",
   "version": "3.6.5"
  }
 },
 "nbformat": 4,
 "nbformat_minor": 2
}
